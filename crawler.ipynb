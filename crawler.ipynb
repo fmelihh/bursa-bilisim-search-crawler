{
 "cells": [
  {
   "cell_type": "code",
   "execution_count": 25,
   "id": "255364f2-2bac-4505-af29-340fee4a05b6",
   "metadata": {},
   "outputs": [],
   "source": [
    "BASE_URL = \"https://books.toscrape.com/catalogue\""
   ]
  },
  {
   "cell_type": "code",
   "execution_count": null,
   "id": "00599cfe-21ef-4f80-9b22-b98e7e4e8b80",
   "metadata": {},
   "outputs": [],
   "source": []
  },
  {
   "cell_type": "code",
   "execution_count": 2,
   "id": "e8dfc7de-fb98-4eec-9ca6-863304cfcc75",
   "metadata": {},
   "outputs": [],
   "source": [
    "from lxml.etree import HTML"
   ]
  },
  {
   "cell_type": "code",
   "execution_count": 3,
   "id": "bb06ce72-6d8b-4dc5-88df-e6f99bf259a8",
   "metadata": {},
   "outputs": [],
   "source": [
    "import requests"
   ]
  },
  {
   "cell_type": "code",
   "execution_count": 4,
   "id": "084e5851-7a8f-4a8c-b2d7-2239dee29fdf",
   "metadata": {},
   "outputs": [],
   "source": [
    "response = requests.get(BASE_URL)"
   ]
  },
  {
   "cell_type": "code",
   "execution_count": 5,
   "id": "bc607620-e319-4ff0-abe2-14f367c1400c",
   "metadata": {},
   "outputs": [
    {
     "data": {
      "text/plain": [
       "200"
      ]
     },
     "execution_count": 5,
     "metadata": {},
     "output_type": "execute_result"
    }
   ],
   "source": [
    "response.status_code"
   ]
  },
  {
   "cell_type": "code",
   "execution_count": 6,
   "id": "93d60cfc-ecd9-4220-81a9-66a0cade8303",
   "metadata": {},
   "outputs": [],
   "source": [
    "dom = HTML(response.text)"
   ]
  },
  {
   "cell_type": "code",
   "execution_count": 10,
   "id": "1ee98d43-15d5-428c-ab72-ae2c4ba49c78",
   "metadata": {},
   "outputs": [],
   "source": [
    "total = dom.xpath('//ul[@class=\"pager\"]//li[@class=\"current\"]')"
   ]
  },
  {
   "cell_type": "code",
   "execution_count": 20,
   "id": "da0fe0f1-0b35-403b-8ae3-af36647bd694",
   "metadata": {},
   "outputs": [],
   "source": [
    "if len(total) > 0:\n",
    "    total = total[0]\n",
    "    total = int(total.text.strip().split(\"of\")[1].strip())\n",
    "else:\n",
    "    total = 1"
   ]
  },
  {
   "cell_type": "code",
   "execution_count": 27,
   "id": "e9d8705a-cb2e-4aad-ba43-db715391c52c",
   "metadata": {},
   "outputs": [],
   "source": [
    "urls = [\n",
    "    f\"{BASE_URL}/{url.get('href')}\"\n",
    "    for url in dom.xpath('//ol[@class=\"row\"]//li/article[@class=\"product_pod\"]/div[@class=\"image_container\"]/a')\n",
    "    if url.get(\"href\")\n",
    "]"
   ]
  },
  {
   "cell_type": "code",
   "execution_count": 28,
   "id": "cdfec829-d37c-4365-ad6c-d240f57ba05e",
   "metadata": {},
   "outputs": [
    {
     "data": {
      "text/plain": [
       "['https://books.toscrape.com/catalogue/a-light-in-the-attic_1000/index.html',\n",
       " 'https://books.toscrape.com/catalogue/tipping-the-velvet_999/index.html',\n",
       " 'https://books.toscrape.com/catalogue/soumission_998/index.html',\n",
       " 'https://books.toscrape.com/catalogue/sharp-objects_997/index.html',\n",
       " 'https://books.toscrape.com/catalogue/sapiens-a-brief-history-of-humankind_996/index.html',\n",
       " 'https://books.toscrape.com/catalogue/the-requiem-red_995/index.html',\n",
       " 'https://books.toscrape.com/catalogue/the-dirty-little-secrets-of-getting-your-dream-job_994/index.html',\n",
       " 'https://books.toscrape.com/catalogue/the-coming-woman-a-novel-based-on-the-life-of-the-infamous-feminist-victoria-woodhull_993/index.html',\n",
       " 'https://books.toscrape.com/catalogue/the-boys-in-the-boat-nine-americans-and-their-epic-quest-for-gold-at-the-1936-berlin-olympics_992/index.html',\n",
       " 'https://books.toscrape.com/catalogue/the-black-maria_991/index.html',\n",
       " 'https://books.toscrape.com/catalogue/starving-hearts-triangular-trade-trilogy-1_990/index.html',\n",
       " 'https://books.toscrape.com/catalogue/shakespeares-sonnets_989/index.html',\n",
       " 'https://books.toscrape.com/catalogue/set-me-free_988/index.html',\n",
       " 'https://books.toscrape.com/catalogue/scott-pilgrims-precious-little-life-scott-pilgrim-1_987/index.html',\n",
       " 'https://books.toscrape.com/catalogue/rip-it-up-and-start-again_986/index.html',\n",
       " 'https://books.toscrape.com/catalogue/our-band-could-be-your-life-scenes-from-the-american-indie-underground-1981-1991_985/index.html',\n",
       " 'https://books.toscrape.com/catalogue/olio_984/index.html',\n",
       " 'https://books.toscrape.com/catalogue/mesaerion-the-best-science-fiction-stories-1800-1849_983/index.html',\n",
       " 'https://books.toscrape.com/catalogue/libertarianism-for-beginners_982/index.html',\n",
       " 'https://books.toscrape.com/catalogue/its-only-the-himalayas_981/index.html']"
      ]
     },
     "execution_count": 28,
     "metadata": {},
     "output_type": "execute_result"
    }
   ],
   "source": [
    "urls"
   ]
  },
  {
   "cell_type": "code",
   "execution_count": 29,
   "id": "7d750b26-a250-4248-abcc-e21523941f01",
   "metadata": {},
   "outputs": [
    {
     "name": "stdout",
     "output_type": "stream",
     "text": [
      "Using version \u001b[39;1m^2.2.1\u001b[39;22m for \u001b[36mpandas\u001b[39m\n",
      "\n",
      "\u001b[34mUpdating dependencies\u001b[39m\n",
      "\u001b[2K\u001b[34mResolving dependencies...\u001b[39m \u001b[39;2m(3.1s)\u001b[39;22m\u001b[34mResolving dependencies...\u001b[39m \u001b[39;2m(1.1s)\u001b[39;22m\u001b[34mResolving dependencies...\u001b[39m \u001b[39;2m(2.1s)\u001b[39;22m\n",
      "\n",
      "\u001b[39;1mPackage operations\u001b[39;22m: \u001b[34m3\u001b[39m installs, \u001b[34m0\u001b[39m updates, \u001b[34m0\u001b[39m removals\n",
      "\n",
      "  \u001b[34;1m•\u001b[39;22m \u001b[39mInstalling \u001b[39m\u001b[36mpytz\u001b[39m\u001b[39m (\u001b[39m\u001b[39;1m2024.1\u001b[39;22m\u001b[39m)\u001b[39m: \u001b[34mPending...\u001b[39m\n",
      "  \u001b[34;1m•\u001b[39;22m \u001b[39mInstalling \u001b[39m\u001b[36mtzdata\u001b[39m\u001b[39m (\u001b[39m\u001b[39;1m2024.1\u001b[39;22m\u001b[39m)\u001b[39m: \u001b[34mPending...\u001b[39m\n",
      "\u001b[2A\u001b[0J  \u001b[34;1m•\u001b[39;22m \u001b[39mInstalling \u001b[39m\u001b[36mtzdata\u001b[39m\u001b[39m (\u001b[39m\u001b[39;1m2024.1\u001b[39;22m\u001b[39m)\u001b[39m: \u001b[34mPending...\u001b[39m\n",
      "\u001b[1A\u001b[0J  \u001b[34;1m•\u001b[39;22m \u001b[39mInstalling \u001b[39m\u001b[36mpytz\u001b[39m\u001b[39m (\u001b[39m\u001b[39;1m2024.1\u001b[39;22m\u001b[39m)\u001b[39m: \u001b[34mInstalling...\u001b[39m\n",
      "  \u001b[34;1m•\u001b[39;22m \u001b[39mInstalling \u001b[39m\u001b[36mtzdata\u001b[39m\u001b[39m (\u001b[39m\u001b[39;1m2024.1\u001b[39;22m\u001b[39m)\u001b[39m: \u001b[34mPending...\u001b[39m\n",
      "\u001b[1A\u001b[0J  \u001b[34;1m•\u001b[39;22m \u001b[39mInstalling \u001b[39m\u001b[36mtzdata\u001b[39m\u001b[39m (\u001b[39m\u001b[39;1m2024.1\u001b[39;22m\u001b[39m)\u001b[39m: \u001b[34mInstalling...\u001b[39m\n",
      "\u001b[2A\u001b[0J  \u001b[34;1m•\u001b[39;22m \u001b[39mInstalling \u001b[39m\u001b[36mtzdata\u001b[39m\u001b[39m (\u001b[39m\u001b[39;1m2024.1\u001b[39;22m\u001b[39m)\u001b[39m: \u001b[34mInstalling...\u001b[39m\n",
      "\u001b[1A\u001b[0J  \u001b[32;1m•\u001b[39;22m \u001b[39mInstalling \u001b[39m\u001b[36mpytz\u001b[39m\u001b[39m (\u001b[39m\u001b[32m2024.1\u001b[39m\u001b[39m)\u001b[39m\n",
      "  \u001b[34;1m•\u001b[39;22m \u001b[39mInstalling \u001b[39m\u001b[36mtzdata\u001b[39m\u001b[39m (\u001b[39m\u001b[39;1m2024.1\u001b[39;22m\u001b[39m)\u001b[39m: \u001b[34mInstalling...\u001b[39m\n",
      "\u001b[1A\u001b[0J  \u001b[32;1m•\u001b[39;22m \u001b[39mInstalling \u001b[39m\u001b[36mtzdata\u001b[39m\u001b[39m (\u001b[39m\u001b[32m2024.1\u001b[39m\u001b[39m)\u001b[39m\n",
      "  \u001b[34;1m•\u001b[39;22m \u001b[39mInstalling \u001b[39m\u001b[36mpandas\u001b[39m\u001b[39m (\u001b[39m\u001b[39;1m2.2.1\u001b[39;22m\u001b[39m)\u001b[39m: \u001b[34mPending...\u001b[39m\n",
      "\u001b[1A\u001b[0J  \u001b[34;1m•\u001b[39;22m \u001b[39mInstalling \u001b[39m\u001b[36mpandas\u001b[39m\u001b[39m (\u001b[39m\u001b[39;1m2.2.1\u001b[39;22m\u001b[39m)\u001b[39m: \u001b[34mInstalling...\u001b[39m\n",
      "\u001b[1A\u001b[0J  \u001b[32;1m•\u001b[39;22m \u001b[39mInstalling \u001b[39m\u001b[36mpandas\u001b[39m\u001b[39m (\u001b[39m\u001b[32m2.2.1\u001b[39m\u001b[39m)\u001b[39m\n",
      "\n",
      "\u001b[34mWriting lock file\u001b[39m\n"
     ]
    }
   ],
   "source": [
    "!poetry add pandas"
   ]
  },
  {
   "cell_type": "code",
   "execution_count": 34,
   "id": "4f8e306c-19f8-4e40-8f8e-92310ae4fd5f",
   "metadata": {},
   "outputs": [],
   "source": [
    "response = requests.get(f\"{BASE_URL}/page-1.html\")"
   ]
  },
  {
   "cell_type": "code",
   "execution_count": 35,
   "id": "bfb9ac2f-6743-4b32-ab5e-3c21ad789cd4",
   "metadata": {},
   "outputs": [],
   "source": [
    "dom = HTML(response.text)"
   ]
  },
  {
   "cell_type": "code",
   "execution_count": 36,
   "id": "d90a5b7f-3c77-4cad-b750-22a5e6b955dc",
   "metadata": {},
   "outputs": [],
   "source": [
    "total = dom.xpath('//ul[@class=\"pager\"]//li[@class=\"current\"]')"
   ]
  },
  {
   "cell_type": "code",
   "execution_count": 37,
   "id": "d1387e3f-60f9-4e2b-bb71-129aaed7fb81",
   "metadata": {},
   "outputs": [],
   "source": [
    "if len(total) > 0:\n",
    "    total = total[0]\n",
    "    total = int(total.text.strip().split(\"of\")[1].strip())\n",
    "else:\n",
    "    total = 1"
   ]
  },
  {
   "cell_type": "code",
   "execution_count": 38,
   "id": "dd256eea-9157-4c75-9546-92def84bc341",
   "metadata": {},
   "outputs": [
    {
     "data": {
      "text/plain": [
       "50"
      ]
     },
     "execution_count": 38,
     "metadata": {},
     "output_type": "execute_result"
    }
   ],
   "source": [
    "total"
   ]
  },
  {
   "cell_type": "code",
   "execution_count": 40,
   "id": "37a87429-2a87-4f0f-b154-833a1839f778",
   "metadata": {},
   "outputs": [
    {
     "name": "stdout",
     "output_type": "stream",
     "text": [
      "1\n",
      "2\n",
      "3\n",
      "4\n",
      "5\n",
      "6\n",
      "7\n",
      "8\n",
      "9\n"
     ]
    }
   ],
   "source": [
    "urls = []\n",
    "for i in range(1, 10):\n",
    "    print(i)\n",
    "    response = requests.get(f\"{BASE_URL}/page-{i}.html\")\n",
    "    dom = HTML(response.text)\n",
    "    urls.extend(\n",
    "        [\n",
    "            f\"{BASE_URL}/{url.get('href')}\"\n",
    "            for url in dom.xpath('//ol[@class=\"row\"]//li/article[@class=\"product_pod\"]/div[@class=\"image_container\"]/a')\n",
    "            if url.get(\"href\")\n",
    "        ]\n",
    "    )"
   ]
  },
  {
   "cell_type": "code",
   "execution_count": 31,
   "id": "ce63108c-d14b-440c-9fc7-51a05e9428ab",
   "metadata": {},
   "outputs": [
    {
     "data": {
      "text/plain": [
       "20"
      ]
     },
     "execution_count": 31,
     "metadata": {},
     "output_type": "execute_result"
    }
   ],
   "source": [
    "len(urls)"
   ]
  },
  {
   "cell_type": "code",
   "execution_count": 33,
   "id": "bf1c1c6f-a904-47bf-94d1-3754a7032e8d",
   "metadata": {},
   "outputs": [
    {
     "data": {
      "text/plain": [
       "1"
      ]
     },
     "execution_count": 33,
     "metadata": {},
     "output_type": "execute_result"
    }
   ],
   "source": [
    "total"
   ]
  },
  {
   "cell_type": "code",
   "execution_count": 41,
   "id": "2202cc39-3f69-47d1-943a-31eec8fb4443",
   "metadata": {},
   "outputs": [],
   "source": [
    "import pandas as pd"
   ]
  },
  {
   "cell_type": "code",
   "execution_count": 42,
   "id": "beb19da6-1c4e-417e-83d4-3e00c8c5d4ae",
   "metadata": {},
   "outputs": [
    {
     "data": {
      "text/plain": [
       "180"
      ]
     },
     "execution_count": 42,
     "metadata": {},
     "output_type": "execute_result"
    }
   ],
   "source": [
    "len(urls)"
   ]
  },
  {
   "cell_type": "code",
   "execution_count": 43,
   "id": "2765a879-e2ec-4651-a9a5-d52c105da2e5",
   "metadata": {},
   "outputs": [],
   "source": [
    "df = pd.DataFrame([{\"url\": url} for url in urls])"
   ]
  },
  {
   "cell_type": "code",
   "execution_count": 44,
   "id": "27583e1d-3312-451f-9e24-b3e269a1cd4a",
   "metadata": {},
   "outputs": [
    {
     "data": {
      "text/html": [
       "<div>\n",
       "<style scoped>\n",
       "    .dataframe tbody tr th:only-of-type {\n",
       "        vertical-align: middle;\n",
       "    }\n",
       "\n",
       "    .dataframe tbody tr th {\n",
       "        vertical-align: top;\n",
       "    }\n",
       "\n",
       "    .dataframe thead th {\n",
       "        text-align: right;\n",
       "    }\n",
       "</style>\n",
       "<table border=\"1\" class=\"dataframe\">\n",
       "  <thead>\n",
       "    <tr style=\"text-align: right;\">\n",
       "      <th></th>\n",
       "      <th>url</th>\n",
       "    </tr>\n",
       "  </thead>\n",
       "  <tbody>\n",
       "    <tr>\n",
       "      <th>0</th>\n",
       "      <td>https://books.toscrape.com/catalogue/a-light-i...</td>\n",
       "    </tr>\n",
       "    <tr>\n",
       "      <th>1</th>\n",
       "      <td>https://books.toscrape.com/catalogue/tipping-t...</td>\n",
       "    </tr>\n",
       "    <tr>\n",
       "      <th>2</th>\n",
       "      <td>https://books.toscrape.com/catalogue/soumissio...</td>\n",
       "    </tr>\n",
       "    <tr>\n",
       "      <th>3</th>\n",
       "      <td>https://books.toscrape.com/catalogue/sharp-obj...</td>\n",
       "    </tr>\n",
       "    <tr>\n",
       "      <th>4</th>\n",
       "      <td>https://books.toscrape.com/catalogue/sapiens-a...</td>\n",
       "    </tr>\n",
       "  </tbody>\n",
       "</table>\n",
       "</div>"
      ],
      "text/plain": [
       "                                                 url\n",
       "0  https://books.toscrape.com/catalogue/a-light-i...\n",
       "1  https://books.toscrape.com/catalogue/tipping-t...\n",
       "2  https://books.toscrape.com/catalogue/soumissio...\n",
       "3  https://books.toscrape.com/catalogue/sharp-obj...\n",
       "4  https://books.toscrape.com/catalogue/sapiens-a..."
      ]
     },
     "execution_count": 44,
     "metadata": {},
     "output_type": "execute_result"
    }
   ],
   "source": [
    "df.head()"
   ]
  },
  {
   "cell_type": "code",
   "execution_count": 45,
   "id": "503dc9e1-500e-44ba-9d9a-55736ee18e35",
   "metadata": {},
   "outputs": [],
   "source": [
    "df.to_csv(\"urls.csv\")"
   ]
  },
  {
   "cell_type": "code",
   "execution_count": null,
   "id": "d8c1562c-0756-4a70-b4dd-2977a25fb0cf",
   "metadata": {},
   "outputs": [],
   "source": []
  },
  {
   "cell_type": "code",
   "execution_count": 46,
   "id": "397c299f-6363-4be0-b99c-c2be636a337e",
   "metadata": {},
   "outputs": [],
   "source": [
    "PRODUCT_URL = \"https://books.toscrape.com/catalogue/a-light-in-the-attic_1000/index.html\""
   ]
  },
  {
   "cell_type": "code",
   "execution_count": 47,
   "id": "055eb86a-c731-4ede-b71b-2d54af304bf1",
   "metadata": {},
   "outputs": [],
   "source": [
    "response = requests.get(PRODUCT_URL)"
   ]
  },
  {
   "cell_type": "code",
   "execution_count": 48,
   "id": "aa91b4ef-0406-46fb-8484-cc58d2bc4476",
   "metadata": {},
   "outputs": [],
   "source": [
    "dom = HTML(response.text)"
   ]
  },
  {
   "cell_type": "code",
   "execution_count": 89,
   "id": "2b181653-2960-4628-93ef-f43e1f071282",
   "metadata": {},
   "outputs": [],
   "source": [
    "from pydantic import BaseModel, Field"
   ]
  },
  {
   "cell_type": "code",
   "execution_count": 95,
   "id": "d4e34b83-0391-4f9e-bd10-202c6d00b0c9",
   "metadata": {},
   "outputs": [],
   "source": [
    "class Book(BaseModel):\n",
    "    title: str\n",
    "    category: str | None = Field(default=None)\n",
    "    description: str | None = Field(default=None)"
   ]
  },
  {
   "cell_type": "code",
   "execution_count": 57,
   "id": "bae64f77-718a-4bdb-beec-7edbf92e0a8b",
   "metadata": {},
   "outputs": [],
   "source": [
    "title = dom.xpath('//p[@class=\"price_color\"]/../h1')\n",
    "if title:\n",
    "    title = title[0]\n",
    "    title = title.text.strip()"
   ]
  },
  {
   "cell_type": "code",
   "execution_count": 58,
   "id": "1ef54851-985c-4fbd-8352-b1a5b2a9e614",
   "metadata": {},
   "outputs": [
    {
     "data": {
      "text/plain": [
       "'A Light in the Attic'"
      ]
     },
     "execution_count": 58,
     "metadata": {},
     "output_type": "execute_result"
    }
   ],
   "source": [
    "title"
   ]
  },
  {
   "cell_type": "code",
   "execution_count": 73,
   "id": "8e1b6f17-68d0-4371-9ef7-98d4fb494070",
   "metadata": {},
   "outputs": [],
   "source": []
  },
  {
   "cell_type": "code",
   "execution_count": 74,
   "id": "01a0940e-084e-4487-98a0-b18cde4e0bd9",
   "metadata": {},
   "outputs": [],
   "source": [
    "category = dom.xpath('//ul[@class=\"breadcrumb\"]//li/a')\n",
    "if category:\n",
    "    category = category[-1]\n",
    "    category = category.text.strip()"
   ]
  },
  {
   "cell_type": "code",
   "execution_count": 75,
   "id": "b45cbef3-89d6-4710-9ce4-61acf6bd1e2f",
   "metadata": {},
   "outputs": [
    {
     "data": {
      "text/plain": [
       "'Poetry'"
      ]
     },
     "execution_count": 75,
     "metadata": {},
     "output_type": "execute_result"
    }
   ],
   "source": [
    "category"
   ]
  },
  {
   "cell_type": "code",
   "execution_count": 76,
   "id": "56225415-ca7b-4467-a6a2-b74c413bc7b1",
   "metadata": {},
   "outputs": [],
   "source": [
    "description = dom.xpath('//article[@class=\"product_page\"]/p')\n",
    "if description:\n",
    "    description = description[0].text.strip()"
   ]
  },
  {
   "cell_type": "code",
   "execution_count": 79,
   "id": "4aa3f141-8c56-45f8-825f-b744aebf07da",
   "metadata": {},
   "outputs": [],
   "source": []
  },
  {
   "cell_type": "code",
   "execution_count": 81,
   "id": "754ab4cc-1901-43a9-bf6c-39e9bcc1006a",
   "metadata": {},
   "outputs": [
    {
     "data": {
      "text/plain": [
       "\"It's hard to imagine a world without A Light in the Attic. This now-classic collection of poetry and drawings from Shel Silverstein celebrates its 20th anniversary with this special edition. Silverstein's humorous and creative verse can amuse the dowdiest of readers. Lemon-faced adults and fidgety kids sit still and read these rhythmic words and laugh and smile and love th It's hard to imagine a world without A Light in the Attic. This now-classic collection of poetry and drawings from Shel Silverstein celebrates its 20th anniversary with this special edition. Silverstein's humorous and creative verse can amuse the dowdiest of readers. Lemon-faced adults and fidgety kids sit still and read these rhythmic words and laugh and smile and love that Silverstein. Need proof of his genius? RockabyeRockabye baby, in the treetopDon't you know a treetopIs no safe place to rock?And who put you up there,And your cradle, too?Baby, I think someone down here'sGot it in for you. Shel, you never sounded so good. ...more\""
      ]
     },
     "execution_count": 81,
     "metadata": {},
     "output_type": "execute_result"
    }
   ],
   "source": [
    "description"
   ]
  },
  {
   "cell_type": "code",
   "execution_count": 96,
   "id": "f513b940-4b76-4df0-ba45-5eb1d7c60c09",
   "metadata": {},
   "outputs": [
    {
     "name": "stdout",
     "output_type": "stream",
     "text": [
      "Using version \u001b[39;1m^4.66.2\u001b[39;22m for \u001b[36mtqdm\u001b[39m\n",
      "\n",
      "\u001b[34mUpdating dependencies\u001b[39m\n",
      "\u001b[2K\u001b[34mResolving dependencies...\u001b[39m \u001b[39;2m(3.0s)\u001b[39;22m\u001b[34mResolving dependencies...\u001b[39m \u001b[39;2m(0.2s)\u001b[39;22m\u001b[34mResolving dependencies...\u001b[39m \u001b[39;2m(1.8s)\u001b[39;22m\n",
      "\n",
      "\u001b[39;1mPackage operations\u001b[39;22m: \u001b[34m1\u001b[39m install, \u001b[34m0\u001b[39m updates, \u001b[34m0\u001b[39m removals\n",
      "\n",
      "  \u001b[34;1m•\u001b[39;22m \u001b[39mInstalling \u001b[39m\u001b[36mtqdm\u001b[39m\u001b[39m (\u001b[39m\u001b[39;1m4.66.2\u001b[39;22m\u001b[39m)\u001b[39m: \u001b[34mPending...\u001b[39m\n",
      "\u001b[1A\u001b[0J  \u001b[34;1m•\u001b[39;22m \u001b[39mInstalling \u001b[39m\u001b[36mtqdm\u001b[39m\u001b[39m (\u001b[39m\u001b[39;1m4.66.2\u001b[39;22m\u001b[39m)\u001b[39m: \u001b[34mInstalling...\u001b[39m\n",
      "\u001b[1A\u001b[0J  \u001b[32;1m•\u001b[39;22m \u001b[39mInstalling \u001b[39m\u001b[36mtqdm\u001b[39m\u001b[39m (\u001b[39m\u001b[32m4.66.2\u001b[39m\u001b[39m)\u001b[39m\n",
      "\n",
      "\u001b[34mWriting lock file\u001b[39m\n"
     ]
    }
   ],
   "source": [
    "!poetry add tqdm"
   ]
  },
  {
   "cell_type": "code",
   "execution_count": 106,
   "id": "18030b0d-8972-4380-b18c-17027c69fb9c",
   "metadata": {},
   "outputs": [],
   "source": [
    "import tqdm"
   ]
  },
  {
   "cell_type": "code",
   "execution_count": 107,
   "id": "aac0acb3-a695-4604-bc17-ab453357d7e8",
   "metadata": {},
   "outputs": [],
   "source": [
    "urls = pd.read_csv(\"urls.csv\")"
   ]
  },
  {
   "cell_type": "code",
   "execution_count": 108,
   "id": "5c8474c4-afcb-40a5-ab94-4dddb5b7b774",
   "metadata": {
    "scrolled": true
   },
   "outputs": [],
   "source": [
    "urls = urls[\"url\"].to_list()[0: 150]"
   ]
  },
  {
   "cell_type": "code",
   "execution_count": 109,
   "id": "53d10558-520e-405a-8e0e-727085ae4899",
   "metadata": {},
   "outputs": [
    {
     "name": "stderr",
     "output_type": "stream",
     "text": [
      "100%|████████████████████████████████████████████████████████████████████████████████████████████████████████████████████████████| 150/150 [02:15<00:00,  1.11it/s]\n"
     ]
    }
   ],
   "source": [
    "books = []\n",
    "for url in tqdm.tqdm(urls):    \n",
    "    response = requests.get(url)\n",
    "    dom = HTML(response.text)\n",
    "\n",
    "    title = dom.xpath('//p[@class=\"price_color\"]/../h1')\n",
    "    if title:\n",
    "        title = title[0]\n",
    "        title = title.text.strip()\n",
    "\n",
    "    category = dom.xpath('//ul[@class=\"breadcrumb\"]//li/a')\n",
    "    if category:\n",
    "        category = category[-1]\n",
    "        category = category.text.strip()\n",
    "\n",
    "    description = dom.xpath('//article[@class=\"product_page\"]/p')\n",
    "    if description:\n",
    "        description = description[0].text.strip()\n",
    "\n",
    "    books.append(\n",
    "        Book(\n",
    "            title=title,\n",
    "            category=category,\n",
    "            description=description \n",
    "        )\n",
    "    )\n"
   ]
  },
  {
   "cell_type": "code",
   "execution_count": 110,
   "id": "52859ab8-35b8-4800-b13a-3b2ad8cba965",
   "metadata": {},
   "outputs": [
    {
     "data": {
      "text/plain": [
       "150"
      ]
     },
     "execution_count": 110,
     "metadata": {},
     "output_type": "execute_result"
    }
   ],
   "source": [
    "len(urls)"
   ]
  },
  {
   "cell_type": "code",
   "execution_count": 111,
   "id": "089eb750-f6d7-4250-9c88-a6491f37a5b7",
   "metadata": {},
   "outputs": [
    {
     "data": {
      "text/plain": [
       "150"
      ]
     },
     "execution_count": 111,
     "metadata": {},
     "output_type": "execute_result"
    }
   ],
   "source": [
    "len(books)"
   ]
  },
  {
   "cell_type": "code",
   "execution_count": 113,
   "id": "127c7ab0-8a3f-4beb-8a9b-62c4daf06dbd",
   "metadata": {},
   "outputs": [],
   "source": [
    "books_df = pd.DataFrame([book.model_dump() for book in books])"
   ]
  },
  {
   "cell_type": "code",
   "execution_count": 114,
   "id": "497dbac6-317a-4c5f-b553-77f7db69c84f",
   "metadata": {},
   "outputs": [
    {
     "data": {
      "text/html": [
       "<div>\n",
       "<style scoped>\n",
       "    .dataframe tbody tr th:only-of-type {\n",
       "        vertical-align: middle;\n",
       "    }\n",
       "\n",
       "    .dataframe tbody tr th {\n",
       "        vertical-align: top;\n",
       "    }\n",
       "\n",
       "    .dataframe thead th {\n",
       "        text-align: right;\n",
       "    }\n",
       "</style>\n",
       "<table border=\"1\" class=\"dataframe\">\n",
       "  <thead>\n",
       "    <tr style=\"text-align: right;\">\n",
       "      <th></th>\n",
       "      <th>title</th>\n",
       "      <th>category</th>\n",
       "      <th>description</th>\n",
       "    </tr>\n",
       "  </thead>\n",
       "  <tbody>\n",
       "    <tr>\n",
       "      <th>0</th>\n",
       "      <td>A Light in the Attic</td>\n",
       "      <td>Poetry</td>\n",
       "      <td>It's hard to imagine a world without A Light i...</td>\n",
       "    </tr>\n",
       "    <tr>\n",
       "      <th>1</th>\n",
       "      <td>Tipping the Velvet</td>\n",
       "      <td>Historical Fiction</td>\n",
       "      <td>\"Erotic and absorbing...Written with starling ...</td>\n",
       "    </tr>\n",
       "    <tr>\n",
       "      <th>2</th>\n",
       "      <td>Soumission</td>\n",
       "      <td>Fiction</td>\n",
       "      <td>Dans une France assez proche de la nÃ´tre, un ...</td>\n",
       "    </tr>\n",
       "    <tr>\n",
       "      <th>3</th>\n",
       "      <td>Sharp Objects</td>\n",
       "      <td>Mystery</td>\n",
       "      <td>WICKED above her hipbone, GIRL across her hear...</td>\n",
       "    </tr>\n",
       "    <tr>\n",
       "      <th>4</th>\n",
       "      <td>Sapiens: A Brief History of Humankind</td>\n",
       "      <td>History</td>\n",
       "      <td>From a renowned historian comes a groundbreaki...</td>\n",
       "    </tr>\n",
       "  </tbody>\n",
       "</table>\n",
       "</div>"
      ],
      "text/plain": [
       "                                   title            category  \\\n",
       "0                   A Light in the Attic              Poetry   \n",
       "1                     Tipping the Velvet  Historical Fiction   \n",
       "2                             Soumission             Fiction   \n",
       "3                          Sharp Objects             Mystery   \n",
       "4  Sapiens: A Brief History of Humankind             History   \n",
       "\n",
       "                                         description  \n",
       "0  It's hard to imagine a world without A Light i...  \n",
       "1  \"Erotic and absorbing...Written with starling ...  \n",
       "2  Dans une France assez proche de la nÃ´tre, un ...  \n",
       "3  WICKED above her hipbone, GIRL across her hear...  \n",
       "4  From a renowned historian comes a groundbreaki...  "
      ]
     },
     "execution_count": 114,
     "metadata": {},
     "output_type": "execute_result"
    }
   ],
   "source": [
    "books_df.head()"
   ]
  },
  {
   "cell_type": "code",
   "execution_count": 115,
   "id": "e0207a3d-0c06-4a1a-9817-fa4cf65599d2",
   "metadata": {},
   "outputs": [],
   "source": [
    "books_df.to_csv(\"books.csv\")"
   ]
  },
  {
   "cell_type": "code",
   "execution_count": null,
   "id": "65783897-7138-4efd-a2fe-63ee39117bae",
   "metadata": {},
   "outputs": [],
   "source": [
    "tenacity"
   ]
  }
 ],
 "metadata": {
  "kernelspec": {
   "display_name": "Python 3 (ipykernel)",
   "language": "python",
   "name": "python3"
  },
  "language_info": {
   "codemirror_mode": {
    "name": "ipython",
    "version": 3
   },
   "file_extension": ".py",
   "mimetype": "text/x-python",
   "name": "python",
   "nbconvert_exporter": "python",
   "pygments_lexer": "ipython3",
   "version": "3.11.5"
  }
 },
 "nbformat": 4,
 "nbformat_minor": 5
}
